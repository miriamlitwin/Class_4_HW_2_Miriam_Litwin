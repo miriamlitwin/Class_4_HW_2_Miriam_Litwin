{
  "cells": [
    {
      "cell_type": "markdown",
      "id": "7d25b115",
      "metadata": {
        "id": "7d25b115"
      },
      "source": [
        "\n",
        "# While & For Mastery — Syntax, Patterns, and Programs\n",
        "\n",
        "**Name:** Miriam Litwin  \n",
        "**Course:** _Programming I_  \n",
        "**Date:** _2025-10-19_\n",
        "\n",
        "**Learning goals**\n",
        "- Reintroduce the **syntax** and core **patterns** for `while` and `for` loops.\n",
        "- Use loops with **decision structures** (`if/elif/else`) and **`try/except`** for input validation.\n",
        "- Write non-trivial programs that require **reasoning**, not just template filling.\n",
        "- Practice **PEP 8** style: naming, whitespace, docstrings, and helpful comments. - SO PLEASE DO PEP 8 ASSIGNMENT FIRST\n",
        "\n",
        "\n",
        "**IDE usage**\n",
        "- Feel free to work within an IDE (PyCharm or IDLE) if you feel more comfortable, copying and pasting the answers here"
      ]
    },
    {
      "cell_type": "markdown",
      "source": [],
      "metadata": {
        "id": "co4zaM_oHdBi"
      },
      "id": "co4zaM_oHdBi"
    },
    {
      "cell_type": "markdown",
      "id": "02124153",
      "metadata": {
        "id": "02124153"
      },
      "source": [
        "\n",
        "## Part 0 — Quick Reference (Read & Run)\n",
        "\n",
        "### `for` loop (iterate over a sequence)\n",
        "```python\n",
        "for item in iterable:\n",
        "    # do something with item\n",
        "```\n",
        "\n",
        "### `while` loop (repeat until a condition changes)\n",
        "```python\n",
        "while condition:\n",
        "    # body\n",
        "```\n",
        "\n",
        "### Useful keywords\n",
        "- `break` — exit the nearest loop immediately  \n",
        "- `continue` — skip to next iteration  \n",
        "- `else` on loops — runs if the loop **didn't** `break`\n"
      ]
    },
    {
      "cell_type": "markdown",
      "id": "884708c5",
      "metadata": {
        "id": "884708c5"
      },
      "source": [
        "\n",
        "## Demo 1 — `for` Loop Fundamentals\n",
        "- Iterating lists/strings\n",
        "- Using `range(start, stop, step)`\n",
        "- Tracking indices with `enumerate`\n"
      ]
    },
    {
      "cell_type": "code",
      "execution_count": 1,
      "id": "a9210b06",
      "metadata": {
        "id": "a9210b06",
        "colab": {
          "base_uri": "https://localhost:8080/"
        },
        "outputId": "a77e76fc-0e14-431f-e721-24f6733a3819"
      },
      "outputs": [
        {
          "output_type": "stream",
          "name": "stdout",
          "text": [
            "KOL\n",
            "NIDRE\n",
            "TEFILAH\n",
            "---\n",
            "2 4 6 8 10 \n",
            "---\n",
            "0: kol\n",
            "1: nidre\n",
            "2: tefilah\n"
          ]
        }
      ],
      "source": [
        "\n",
        "words = [\"kol\", \"nidre\", \"tefilah\"]\n",
        "\n",
        "# Basic iteration\n",
        "for w in words:\n",
        "    print(w.upper())\n",
        "\n",
        "print(\"---\")\n",
        "\n",
        "# Ranges\n",
        "for k in range(2, 11, 2):\n",
        "    print(k, end=\" \")\n",
        "print(\"\\n---\")\n",
        "\n",
        "# Enumerate for index + value\n",
        "for i, w in enumerate(words):\n",
        "    print(f\"{i}: {w}\")\n"
      ]
    },
    {
      "cell_type": "markdown",
      "id": "872c060a",
      "metadata": {
        "id": "872c060a"
      },
      "source": [
        "\n",
        "## Demo 2 — `while` Loop Fundamentals\n",
        "- Sentinel loops (stop when user types `done`)\n",
        "- Guarded updates to prevent infinite loops\n"
      ]
    },
    {
      "cell_type": "code",
      "execution_count": null,
      "id": "a16ab540",
      "metadata": {
        "id": "a16ab540"
      },
      "outputs": [],
      "source": [
        "\n",
        "# Sentinel-controlled input loop\n",
        "# Type numbers; type 'done' to stop. We sum only valid numbers.\n",
        "total = 0.0\n",
        "count = 0\n",
        "\n",
        "while True:\n",
        "    raw = input(\"Enter a number (or 'done'): \").strip().lower()\n",
        "    if raw == \"done\":\n",
        "        break\n",
        "    try:\n",
        "        num = float(raw)\n",
        "    except ValueError:\n",
        "        print(\"Not a number — try again.\")\n",
        "        continue\n",
        "    total += num\n",
        "    count += 1\n",
        "\n",
        "if count > 0:\n",
        "    print(\"Average:\", total / count)\n",
        "else:\n",
        "    print(\"No numbers entered.\")\n"
      ]
    },
    {
      "cell_type": "markdown",
      "id": "4f729477",
      "metadata": {
        "id": "4f729477"
      },
      "source": [
        "\n",
        "## Demo 3 — Try/Except + Decisions in Loops\n",
        "- Validate input in a loop\n",
        "- Use `if/elif/else` for branching behavior\n"
      ]
    },
    {
      "cell_type": "code",
      "execution_count": null,
      "id": "ef5f1557",
      "metadata": {
        "id": "ef5f1557"
      },
      "outputs": [],
      "source": [
        "\n",
        "# Ask for an integer 1..10 with limited attempts.\n",
        "MAX_ATTEMPTS = 3\n",
        "attempts = 0\n",
        "value = None\n",
        "\n",
        "while attempts < MAX_ATTEMPTS:\n",
        "    try:\n",
        "        guess = int(input(\"Pick an integer from 1 to 10: \"))\n",
        "    except ValueError:\n",
        "        print(\"Please enter an integer.\")\n",
        "        attempts += 1\n",
        "        continue\n",
        "\n",
        "    if 1 <= guess <= 10:\n",
        "        value = guess\n",
        "        print(\"Thanks! You chose:\", value)\n",
        "        break\n",
        "    else:\n",
        "        print(\"Out of range.\")\n",
        "        attempts += 1\n",
        "\n",
        "if value is None:\n",
        "    print(\"No valid choice made. Exiting.\")\n"
      ]
    },
    {
      "cell_type": "markdown",
      "id": "4a3c313f",
      "metadata": {
        "id": "4a3c313f"
      },
      "source": [
        "\n",
        "## Patterns & Pitfalls\n",
        "- Prefer `for` for known collections/ranges; `while` for open-ended/state-driven loops.\n",
        "- Always **advance the loop state** in a `while` (avoid infinite loops).\n",
        "- Use **sentinels** like `'done'` to end user input.\n",
        "- Extract **helpers** with docstrings for single-purpose blocks.\n",
        "- Keep lines ≤ 79–99 characters and space around operators appropriately.\n"
      ]
    },
    {
      "cell_type": "markdown",
      "id": "05823ceb",
      "metadata": {
        "id": "05823ceb"
      },
      "source": [
        "\n",
        "## Program 1 — Running Statistics (Sentinel + Validation)\n",
        "\n",
        "**Write:** `stats_loop()` that repeatedly reads numbers from the user until they type `'done'`.  \n",
        "- Use `try/except` to validate input. Ignore invalid entries (warn and continue).  \n",
        "- Track **count, min, max, sum, average**.  \n",
        "- At the end, print a one-line summary like:  \n",
        "  `count=5 min=2.0 max=14.5 sum=33.0 avg=6.6`\n",
        "\n",
        "**Requirements:**\n",
        "- Use a **while loop** with a sentinel.\n",
        "- Use at least one **decision structure** (`if/elif/else`).\n",
        "- Follow **PEP 8** for naming, spacing, and comments.\n"
      ]
    },
    {
      "cell_type": "code",
      "execution_count": 3,
      "id": "bc2b0125",
      "metadata": {
        "id": "bc2b0125",
        "colab": {
          "base_uri": "https://localhost:8080/"
        },
        "outputId": "fcecb3b1-1478-4d79-d662-2b3108b17a3d"
      },
      "outputs": [
        {
          "output_type": "stream",
          "name": "stdout",
          "text": [
            "Enter a number: ('done' to quit) 67\n",
            "Enter a number: ('done' to quit) 46\n",
            "Enter a number: ('done' to quit) 90\n",
            "Enter a number: ('done' to quit) 13\n",
            "Enter a number: ('done' to quit) done\n",
            " count = 4 min = 13.0 max = 90.0 sum = 216.0 avg = 54.0\n"
          ]
        }
      ],
      "source": [
        "# Your code here\n",
        "def stats_loop():\n",
        "    \"\"\"\n",
        "    Repeatedly reads numbers from user until they type 'done'\n",
        "\n",
        "    Notes:\n",
        "        - Uses sentinel loop with the sentinel value 'done'.\n",
        "        - Uses try and except to validate input.\n",
        "        - Tracks count, min, max, sum, average.\n",
        "    \"\"\"\n",
        "\n",
        "    total = 0  # Initializes total to 0.\n",
        "    count = 0  # Initializes count to 0.\n",
        "    maximum = 0   #Initializes maximum to 0\n",
        "    user_input = input(\"Enter a number: ('done' to quit) \")  # Stores an integer.\n",
        "    minimum = int(user_input)   #Stores an integer\n",
        "\n",
        "    while user_input != \"done\":  # Sentinel loop with sentinel value 'done'.\n",
        "        try:  # Validates input.\n",
        "            x = int(user_input)   #Stores an integer\n",
        "            total = total + x  # Stores an integer.\n",
        "            count = count + 1  # Stores an integer.\n",
        "\n",
        "            if x >= maximum:  # Tracks the maximum value.\n",
        "                maximum = x  # Stores an integer.\n",
        "            elif x <= minimum:  # Tracks the minimum value.\n",
        "                minimum = x  # Stores an integer.\n",
        "            else:\n",
        "                user_input = input(\"Enter a number: ('done' to quit) \")  # Stores an integer.\n",
        "\n",
        "        except ValueError:\n",
        "            print('Invalid entry')\n",
        "            user_input = input(\"Enter a number: ('done' to quit) \")  # Stores an integer.\n",
        "\n",
        "        user_input = input(\"Enter a number: ('done' to quit) \")  # Stores an integer.\n",
        "\n",
        "    print(f\" count = {count} min = {minimum} max = {maximum} sum = {total} avg = {total / count: .2f}\")\n",
        "\n",
        "stats_loop()"
      ]
    },
    {
      "cell_type": "code",
      "source": [
        "def stats_loop():   #With input that is meant to crash the program, but will because of try.. except.\n",
        "    \"\"\"\n",
        "    Repeatedly reads numbers from user until they type 'done'\n",
        "\n",
        "    Notes:\n",
        "        - Uses sentinel loop with the sentinel value 'done'.\n",
        "        - Uses try and except to validate input.\n",
        "        - Tracks count, min, max, sum, average.\n",
        "    \"\"\"\n",
        "\n",
        "    total = 0  # Initializes total to 0.\n",
        "    count = 0  # Initializes count to 0.\n",
        "    maximum = 0   #Initializes maximum to 0\n",
        "    user_input = input(\"Enter a number: ('done' to quit) \")  # Stores an integer.\n",
        "    minimum = int(user_input)   #Stores an integer\n",
        "\n",
        "    while user_input != \"done\":  # Sentinel loop with sentinel value 'done'.\n",
        "        try:  # Validates input.\n",
        "            x = int(user_input)   #Stores an integer\n",
        "            total = total + x  # Stores an integer.\n",
        "            count = count + 1  # Stores an integer.\n",
        "\n",
        "            if x >= maximum:  # Tracks the maximum value.\n",
        "                maximum = x  # Stores an integer.\n",
        "            elif x <= minimum:  # Tracks the minimum value.\n",
        "                minimum = x  # Stores an integer.\n",
        "            else:\n",
        "                user_input = input(\"Enter a number: ('done' to quit) \")  # Stores an integer.\n",
        "\n",
        "        except ValueError:\n",
        "            print('Invalid entry')\n",
        "            user_input = input(\"Enter a number: ('done' to quit) \")  # Stores an integer.\n",
        "\n",
        "        user_input = input(\"Enter a number: ('done' to quit) \")  # Stores an integer.\n",
        "\n",
        "    print(f\" count = {count} min = {minimum} max = {maximum} sum = {total} avg = {total / count: .2f}\")\n",
        "\n",
        "stats_loop()"
      ],
      "metadata": {
        "id": "G-TqLtRYMjqn",
        "outputId": "053a8e8d-e09a-43e3-eee6-a7bd9160decb",
        "colab": {
          "base_uri": "https://localhost:8080/"
        }
      },
      "id": "G-TqLtRYMjqn",
      "execution_count": 8,
      "outputs": [
        {
          "output_type": "stream",
          "name": "stdout",
          "text": [
            "Enter a number: ('done' to quit) 78\n",
            "Enter a number: ('done' to quit) hi\n",
            "Invalid entry\n",
            "Enter a number: ('done' to quit) 78\n",
            "Enter a number: ('done' to quit) done\n",
            " count = 1 min = 78 max = 78 sum = 78 avg =  78.00\n"
          ]
        }
      ]
    },
    {
      "cell_type": "markdown",
      "id": "cc1cb2cf",
      "metadata": {
        "id": "cc1cb2cf"
      },
      "source": [
        "\n",
        "## Program 2 — Password Attempts (Decisions + While)\n",
        "\n",
        "**Write:** `login_sim(correct_password: str, max_attempts: int = 3)`  \n",
        "- Prompt until the user enters the correct password or attempts are exhausted.  \n",
        "- Enforce a **policy**: at least 8 chars, contains a digit and a letter.  \n",
        "- Provide **specific feedback** for failures using `if/elif/else`.  \n",
        "- Use `try/except` only if you choose to add extra parsing; the main need here is decisions + while.\n",
        "\n",
        "**Tip:** Put the policy check in a **helper function** with a docstring.\n"
      ]
    },
    {
      "cell_type": "code",
      "execution_count": 4,
      "id": "cf5e5e3d",
      "metadata": {
        "id": "cf5e5e3d",
        "colab": {
          "base_uri": "https://localhost:8080/"
        },
        "outputId": "61307a22-1b73-4d88-cef5-c6e3423a8f1e"
      },
      "outputs": [
        {
          "output_type": "stream",
          "name": "stdout",
          "text": [
            "Please print a password: (must contain at least 8 charachters, a digit, and a letter)dfghjklsdfghjk\n",
            "Must contain a digit!\n",
            "Please print a password: (must contain at least 8 charachters, a digit, and a letter)1234567895678\n",
            "Must contain a letter!\n",
            "Please print a password: (must contain at least 8 charachters, a digit, and a letter)programming123!\n",
            "All done.\n"
          ]
        }
      ],
      "source": [
        "# Your code here\n",
        "def login_sim(correct_password: str, max_attempts: int =3):\n",
        "    \"\"\"\n",
        "    Prompt until the user enters the correct password or attemps are exhausted\n",
        "\n",
        "    Args:\n",
        "        correct_password (str): the password is 'Programming123!'.\n",
        "        max_attempts (int): the maximum attemps allowed is 3.\n",
        "\n",
        "    Notes:\n",
        "        -Uses sentinel loop with the sentinel value being the password. Until\n",
        "        the user types the correct password, or reaches the maximum attepts, the\n",
        "        code with enforce the policy and offer helpful comments.\n",
        "\n",
        "    \"\"\"\n",
        "\n",
        "    max_attempts = 0   #Initializes the maximum attempts to 0.\n",
        "    password = input(\"Please print a password: (must contain at least 8 characters, a digit, and a letter)\")\n",
        "              #Stores a string.\n",
        "\n",
        "    def correct_password():\n",
        "        \"\"\"\n",
        "        Enforce a policy of at least 8 chars, contains a digit and a letter\n",
        "        \"\"\"\n",
        "\n",
        "        if int(len(password))<8:   #The input must be 8 chars.\n",
        "            print(\"Must contain at least 8 characters!\")\n",
        "        elif not any(char.isdigit() for char in password):   #The input must contain a digit.\n",
        "            print(\"Must contain a digit!\")\n",
        "        elif not any(char.isalpha() for char in password):   #The input must contain a letter.\n",
        "            print(\"Must contain a letter!\")\n",
        "        else:\n",
        "            print('Policy met but incorret entry. Please try again.')\n",
        "\n",
        "\n",
        "    while password != 'programming123!':   #Until the user types the correct password, or reaches the maximum attepts, the\n",
        "        #code with enforce the policy and offer helpful comments.\n",
        "        correct_password()\n",
        "        max_attempts = max_attempts + 1\n",
        "        if max_attempts >= 3:   #If the user reaches max attempts, the program will stop.\n",
        "            print('Max attempts met.')\n",
        "            break\n",
        "        password = input(\"Please print a password: (must contain at least 8 characters, a digit, and a letter)\")\n",
        "    print('All done.')\n",
        "\n",
        "login_sim('programming123!', 3)\n",
        "\n"
      ]
    },
    {
      "cell_type": "markdown",
      "id": "9efbc851",
      "metadata": {
        "id": "9efbc851"
      },
      "source": [
        "\n",
        "## Program 3 — Collatz Analyzer (While + Decisions)\n",
        "\n",
        "**Write:** `collatz_steps(n: int) -> int` that returns the number of steps to reach 1 using the Collatz rules:  \n",
        "- If `n` is even, `n = n // 2`  \n",
        "- Else `n = 3*n + 1`\n",
        "\n",
        "**Then write:** `collatz_report(start: int, stop: int)` that prints the number between `start` and `stop` (inclusive) with the **maximum** steps and the step count.\n",
        "\n",
        "** Note there are two aspects of this question which are tricky.\n",
        "- [ ] the for loop in `collatz_report` is written `for num in (start, stop)`\n",
        "- [ ] you are calling `collatz_steps` from within `collatz_report` and it is this loop that keeps track of where the ** maximum ** steps and step count are found. So `collatz_steps` is **not** called from the main program\n",
        "\n",
        "**Requirements:**\n",
        "- Input validation with `try/except` in a wrapper `main()` that reads `start` and `stop` from the user.\n",
        "- Use a **for** loop in `collatz_report`; use a **while** loop in `collatz_steps`.\n",
        "- Use decisions appropriately.\n"
      ]
    },
    {
      "cell_type": "code",
      "execution_count": 1,
      "id": "6e7a622e",
      "metadata": {
        "id": "6e7a622e",
        "colab": {
          "base_uri": "https://localhost:8080/"
        },
        "outputId": "2b2d0f62-710b-46c4-ede2-6674b0c29053"
      },
      "outputs": [
        {
          "output_type": "stream",
          "name": "stdout",
          "text": [
            "Enter a value for start: 1\n",
            "Enter a value for stop: 5\n",
            "3 takes 7 steps to reach 1\n"
          ]
        }
      ],
      "source": [
        "# your code here\n",
        "def collatz_steps(num: int) -> int:\n",
        "    \"\"\"\n",
        "    Returns the number of steps to reach 1 using the Collatz rules.\n",
        "\n",
        "    Args:\n",
        "        num (int): Positive integer (>= 1).\n",
        "\n",
        "    Returns:\n",
        "        int: Step count.\n",
        "\n",
        "    Notes:\n",
        "        - Uses while loop; if n is even -> n //= 2; else -> n = 3*n + 1.\n",
        "        - Raises ValueError if n < 1.\n",
        "    \"\"\"\n",
        "    steps = 0\n",
        "    while num != 1:   # Apply the Collatz Rules to a given number.\n",
        "        steps += 1\n",
        "        if num % 2 == 0:   # If the number is even, divide by 2.\n",
        "            num = num // 2   # Stores an integer.\n",
        "        else:   # If the number is odd, multipy by 3 and add 1.\n",
        "            num = 3 * num + 1   # Stores an integer.\n",
        "    return steps\n",
        "\n",
        "def collatz_report(start: int, stop: int):\n",
        "    \"\"\"\n",
        "    Prints the number between start and stop (inclusive) with the maximum steps and the step count.\n",
        "\n",
        "    Args:\n",
        "        start (int), stop (int).\n",
        "\n",
        "    Notes:\n",
        "        - Uses for loop, if the integer's steps are greater than the previous integer's steps -> set the integer and\n",
        "        the number of steps as the max.\n",
        "    \"\"\"\n",
        "    max = 0   # Stores an integer.\n",
        "    for num in range(start, stop + 1):   # Returns the number of steps to reach 1 using the Collatz rules to every\n",
        "                                         # number within the user's range input inclusively.\n",
        "        steps = collatz_steps(num)\n",
        "        if steps >= max:   # Track the best (number, steps) so we can report the maximum at the end.\n",
        "            max = steps   # Stores a string.\n",
        "            num_with_max = num   # Stores a string.\n",
        "    print(f\"{num_with_max} takes {max} steps to reach 1\")\n",
        "\n",
        "def main():\n",
        "    \"\"\"\n",
        "    Reads start and stop from the user.\n",
        "\n",
        "    Notes:\n",
        "        - Uses try and except to validate the input from the user as integers.\n",
        "        - Calls the previous functon, collatz_report(start, stop).\n",
        "    \"\"\"\n",
        "    try:\n",
        "        start = int(input(\"Enter a value for start: \"))\n",
        "        stop = int(input(\"Enter a value for stop: \"))\n",
        "        collatz_report(start, stop)\n",
        "\n",
        "    except ValueError:\n",
        "        print(\"You entered an invalid value.\")\n",
        "\n",
        "\n",
        "if __name__ == \"__main__\":\n",
        "    main()\n"
      ]
    },
    {
      "cell_type": "code",
      "source": [
        "def collatz_steps(num: int) -> int:   #With input that is meant to crash the program, but will not because of try.. except.\n",
        "    \"\"\"\n",
        "    Returns the number of steps to reach 1 using the Collatz rules.\n",
        "\n",
        "    Args:\n",
        "        num (int): Positive integer (>= 1).\n",
        "\n",
        "    Returns:\n",
        "        int: Step count.\n",
        "\n",
        "    Notes:\n",
        "        - Uses while loop; if n is even -> n //= 2; else -> n = 3*n + 1.\n",
        "        - Raises ValueError if n < 1.\n",
        "    \"\"\"\n",
        "    steps = 0\n",
        "    while num != 1:   # Apply the Collatz Rules to a given number.\n",
        "        steps += 1\n",
        "        if num % 2 == 0:   # If the number is even, divide by 2.\n",
        "            num = num // 2   # Stores an integer.\n",
        "        else:   # If the number is odd, multipy by 3 and add 1.\n",
        "            num = 3 * num + 1   # Stores an integer.\n",
        "    return steps\n",
        "\n",
        "def collatz_report(start: int, stop: int):\n",
        "    \"\"\"\n",
        "    Prints the number between start and stop (inclusive) with the maximum steps and the step count.\n",
        "\n",
        "    Args:\n",
        "        start (int), stop (int).\n",
        "\n",
        "    Notes:\n",
        "        - Uses for loop, if the integer's steps are greater than the previous integer's steps -> set the integer and\n",
        "        the number of steps as the max.\n",
        "    \"\"\"\n",
        "    max = 0   # Stores an integer.\n",
        "    for num in range(start, stop + 1):   # Returns the number of steps to reach 1 using the Collatz rules to every\n",
        "                                         # number within the user's range input inclusively.\n",
        "        steps = collatz_steps(num)\n",
        "        if steps >= max:   # Track the best (number, steps) so we can report the maximum at the end.\n",
        "            max = steps   # Stores a string.\n",
        "            num_with_max = num   # Stores a string.\n",
        "    print(f\"{num_with_max} takes {max} steps to reach 1\")\n",
        "\n",
        "def main():\n",
        "    \"\"\"\n",
        "    Reads start and stop from the user.\n",
        "\n",
        "    Notes:\n",
        "        - Uses try and except to validate the input from the user as integers.\n",
        "        - Calls the previous functon, collatz_report(start, stop).\n",
        "    \"\"\"\n",
        "    try:\n",
        "        start = int(input(\"Enter a value for start: \"))\n",
        "        stop = int(input(\"Enter a value for stop: \"))\n",
        "        collatz_report(start, stop)\n",
        "\n",
        "    except ValueError:\n",
        "        print(\"You entered an invalid value.\")\n",
        "\n",
        "\n",
        "if __name__ == \"__main__\":\n",
        "    main()\n"
      ],
      "metadata": {
        "colab": {
          "base_uri": "https://localhost:8080/"
        },
        "id": "tvB5hBCRuDqL",
        "outputId": "db8f3cd8-0eb5-4f19-8a02-947602b15f9c"
      },
      "id": "tvB5hBCRuDqL",
      "execution_count": 2,
      "outputs": [
        {
          "output_type": "stream",
          "name": "stdout",
          "text": [
            "Enter a value for start: hi\n",
            "You entered an invalid value.\n"
          ]
        }
      ]
    },
    {
      "cell_type": "markdown",
      "id": "c2ec00e1",
      "metadata": {
        "id": "c2ec00e1"
      },
      "source": [
        "\n",
        "## Program 4 — Grid Count (Nested Loops + Decisions)\n",
        "\n",
        "** this exercise we will skip as it is a nested loop structure, we will learn this next class - so you receive free points here."
      ]
    },
    {
      "cell_type": "code",
      "execution_count": null,
      "id": "daf5f519",
      "metadata": {
        "id": "daf5f519"
      },
      "outputs": [],
      "source": [
        "# your code here"
      ]
    },
    {
      "cell_type": "markdown",
      "id": "ecba85ff",
      "metadata": {
        "id": "ecba85ff"
      },
      "source": [
        "\n",
        "## Program 5 — Receipt Parser (While + Try/Except + Decisions)\n",
        "\n",
        "**Write:** `receipt_total()` that repeatedly reads lines like `item,quantity,price` until the user types `'done'`.  \n",
        "- Validate that `quantity` is an integer and `price` is a float.  \n",
        "- Accumulate a subtotal and print a formatted receipt at the end.  \n",
        "- Ignore malformed lines (warn and continue).\n",
        "\n",
        "**Example input:**\n",
        "```\n",
        "apple,2,1.25\n",
        "banana,3,0.60\n",
        "done\n",
        "```\n",
        "**Output end line:**\n",
        "```\n",
        "Items: 2  Units: 5  Subtotal: $3.65\n",
        "```\n"
      ]
    },
    {
      "cell_type": "code",
      "execution_count": 1,
      "id": "a2880a4b",
      "metadata": {
        "id": "a2880a4b",
        "colab": {
          "base_uri": "https://localhost:8080/"
        },
        "outputId": "97634e13-9235-41c0-d78d-80d31d92c71b"
      },
      "outputs": [
        {
          "output_type": "stream",
          "name": "stdout",
          "text": [
            "Enter an item: (or done to finish): apple\n",
            "Enter how many you would like (or done to finish): 2\n",
            "Enter the price of one apple (or done to finish: 1.50\n",
            "Enter an item: (or done to finish): orange\n",
            "Enter how many you would like (or done to finish): 4\n",
            "Enter the price of one orange (or done to finish: 1.25\n",
            "Enter an item: (or done to finish): done\n",
            "Items: 2 Units: 6 Subtotal: $ 8.00\n"
          ]
        }
      ],
      "source": [
        "# your code here\n",
        "def receipt_total():\n",
        "    \"\"\"\n",
        "    Repeatedly reads lines like item,quantity,price until the user types 'done'.\n",
        "\n",
        "    Notes:\n",
        "        - Uses while loop to store the number of items, number of units, and the subtotal.\n",
        "        - Uses try and except to validate that quantity is an integer and price is a float.\n",
        "    \"\"\"\n",
        "\n",
        "    num_of_items = 0   #Itializes the number of items to 0.\n",
        "    num_of_units = 0   #Itializes the number of units to 0.\n",
        "    subtotal = 0.0   #Itializes the subtotal to 0.0.\n",
        "\n",
        "    while True:   #Repeatedly reads item,quantity and price, stores the number of items, number of units, and the\n",
        "                  # subtotal, until user types \"done\".\n",
        "        item = input(\"Enter an item: (or done to finish): \").lower()\n",
        "        if item == \"done\":    #Breaks is user types \"done\".\n",
        "            break\n",
        "        try:   #Validate that quantity is an integer and price is a float.\n",
        "            qty = int(input(\"Enter how many you would like (or done to finish): \"))\n",
        "            if qty == \"done\":   #Breaks is user types \"done\".\n",
        "                break\n",
        "            price = float(input(f\"Enter the price of one {item} (or done to finish: \"))\n",
        "            if price == \"done\":   #Breaks is user types \"done\".\n",
        "                break\n",
        "        except ValueError:\n",
        "            print(\"Invalid input. Please reenter.\")\n",
        "            qty = int(input(\"Enter how many you would like (or done to finish): \"))\n",
        "            if qty == \"done\":  # Breaks is user types \"done\".\n",
        "                break\n",
        "            price = float(input(f\"Enter the price of one {item} (or done to finish: \"))\n",
        "            if price == \"done\":  # Breaks is user types \"done\".\n",
        "                break\n",
        "\n",
        "        num_of_items += 1\n",
        "        num_of_units += qty\n",
        "        subtotal = subtotal + qty * price\n",
        "\n",
        "    print(f\"Items: {num_of_items} Units: {num_of_units} Subtotal: ${subtotal: .2f}\")\n",
        "\n",
        "receipt_total()"
      ]
    },
    {
      "cell_type": "code",
      "source": [
        "def receipt_total():   #With input that is meant to crash the program, but will not because of try.. except.\n",
        "    \"\"\"\n",
        "    Repeatedly reads lines like item,quantity,price until the user types 'done'.\n",
        "\n",
        "    Notes:\n",
        "        - Uses while loop to store the number of items, number of units, and the subtotal.\n",
        "        - Uses try and except to validate that quantity is an integer and price is a float.\n",
        "    \"\"\"\n",
        "\n",
        "    num_of_items = 0   #Itializes the number of items to 0.\n",
        "    num_of_units = 0   #Itializes the number of units to 0.\n",
        "    subtotal = 0.0   #Itializes the subtotal to 0.0.\n",
        "\n",
        "    while True:   #Repeatedly reads item,quantity and price, stores the number of items, number of units, and the\n",
        "                  # subtotal, until user types \"done\".\n",
        "        item = input(\"Enter an item: (or done to finish): \").lower()\n",
        "        if item == \"done\":    #Breaks is user types \"done\".\n",
        "            break\n",
        "        try:   #Validate that quantity is an integer and price is a float.\n",
        "            qty = int(input(\"Enter how many you would like (or done to finish): \"))\n",
        "            if qty == \"done\":   #Breaks is user types \"done\".\n",
        "                break\n",
        "            price = float(input(f\"Enter the price of one {item} (or done to finish: \"))\n",
        "            if price == \"done\":   #Breaks is user types \"done\".\n",
        "                break\n",
        "        except ValueError:\n",
        "            print(\"Invalid input. Please reenter.\")\n",
        "            qty = int(input(\"Enter how many you would like (or done to finish): \"))\n",
        "            if qty == \"done\":  # Breaks is user types \"done\".\n",
        "                break\n",
        "            price = float(input(f\"Enter the price of one {item} (or done to finish: \"))\n",
        "            if price == \"done\":  # Breaks is user types \"done\".\n",
        "                break\n",
        "\n",
        "        num_of_items += 1\n",
        "        num_of_units += qty\n",
        "        subtotal = subtotal + qty * price\n",
        "\n",
        "    print(f\"Items: {num_of_items} Units: {num_of_units} Subtotal: ${subtotal: .2f}\")\n",
        "\n",
        "receipt_total()"
      ],
      "metadata": {
        "id": "XwoCRahzvvoF",
        "outputId": "f10d7662-f2fe-46d1-fca3-1825ee2adb09",
        "colab": {
          "base_uri": "https://localhost:8080/"
        }
      },
      "id": "XwoCRahzvvoF",
      "execution_count": 2,
      "outputs": [
        {
          "output_type": "stream",
          "name": "stdout",
          "text": [
            "Enter an item: (or done to finish): apple\n",
            "Enter how many you would like (or done to finish): hi\n",
            "Invalid input. Please reenter.\n",
            "Enter how many you would like (or done to finish): 2\n",
            "Enter the price of one apple (or done to finish: 1.50\n",
            "Enter an item: (or done to finish): done\n",
            "Items: 1 Units: 2 Subtotal: $ 3.00\n"
          ]
        }
      ]
    },
    {
      "cell_type": "markdown",
      "id": "96844e4c",
      "metadata": {
        "id": "96844e4c"
      },
      "source": [
        "\n",
        "## Optional Challenge — Prime Gaps (For + Decisions)\n",
        "\n",
        "Write `is_prime(n: int) -> bool` and then `max_gap(a: int, b: int) -> tuple[int,int,int]` that returns `(p, q, gap)` where `p` and `q` are consecutive primes in `[a, b]` with the **largest** gap.\n",
        "\n",
        "- Use **for** loops and decisions; keep it simple and readable.\n"
      ]
    },
    {
      "cell_type": "markdown",
      "id": "4eddd5e9",
      "metadata": {
        "id": "4eddd5e9"
      },
      "source": [
        "\n",
        "## Submission Checklist\n",
        "- [ ] I used `while` and/or `for` appropriately for each task.\n",
        "- [ ] I validated user input with `try/except` where required.\n",
        "- [ ] I used clear names, docstrings, and helpful comments.\n",
        "- [ ] I kept lines ≤ 79–99 chars and used proper whitespace.\n",
        "- [ ] ***  I have removed the reference to asserts as we have not learned this yet\n"
      ]
    },
    {
      "cell_type": "markdown",
      "id": "96a91da6",
      "metadata": {
        "id": "96a91da6"
      },
      "source": [
        "\n",
        "## Grading Rubric (25 pts)\n",
        "\n",
        "| Criterion | Points |\n",
        "|---|---:|\n",
        "| Program 1 — Stats loop (correctness + validation + clarity) | 6 |\n",
        "| Program 2 — Password attempts (logic + decisions + clarity) | 5 |\n",
        "| Program 3 — Collatz analyzer (while + for + validation) | 6 |\n",
        "| Program 5 — Grid count (nested loops + tests) | 5 |\n",
        "| Overall PEP 8 style & explanations | 3 |\n"
      ]
    }
  ],
  "metadata": {
    "colab": {
      "provenance": [],
      "toc_visible": true
    },
    "language_info": {
      "name": "python"
    },
    "kernelspec": {
      "name": "python3",
      "display_name": "Python 3"
    }
  },
  "nbformat": 4,
  "nbformat_minor": 5
}